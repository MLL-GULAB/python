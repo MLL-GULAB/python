{
  "cells": [
    {
      "cell_type": "markdown",
      "id": "XHvoVqK5mYA-",
      "metadata": {
        "id": "XHvoVqK5mYA-"
      },
      "source": [
        "# <center>Pandas Assignment</center>"
      ]
    },
    {
      "cell_type": "markdown",
      "id": "v9Qb2_aumYBF",
      "metadata": {
        "id": "v9Qb2_aumYBF"
      },
      "source": [
        "Import pandas and numpy with their aliases"
      ]
    },
    {
      "cell_type": "code",
      "execution_count": 2,
      "id": "ihFP1wXZmYBF",
      "metadata": {
        "id": "ihFP1wXZmYBF"
      },
      "outputs": [],
      "source": [
        "import pandas as pd\n",
        "import numpy as np"
      ]
    },
    {
      "cell_type": "markdown",
      "id": "0b8hUBhTmYBG",
      "metadata": {
        "id": "0b8hUBhTmYBG"
      },
      "source": [
        "Create a variable a = pd.Series([ 100, 200, 300, 400])"
      ]
    },
    {
      "cell_type": "code",
      "execution_count": 3,
      "id": "hzvzkbNYmYBH",
      "metadata": {
        "id": "hzvzkbNYmYBH"
      },
      "outputs": [],
      "source": [
        "# a =\n",
        "a = pd.Series([100,200,300,400])"
      ]
    },
    {
      "cell_type": "markdown",
      "id": "BSyNFbitmYBH",
      "metadata": {
        "id": "BSyNFbitmYBH"
      },
      "source": [
        "Print a, and data type"
      ]
    },
    {
      "cell_type": "code",
      "execution_count": 4,
      "id": "GMmFsjPamYBH",
      "metadata": {
        "id": "GMmFsjPamYBH"
      },
      "outputs": [
        {
          "name": "stdout",
          "output_type": "stream",
          "text": [
            "0    100\n",
            "1    200\n",
            "2    300\n",
            "3    400\n",
            "dtype: int64\n",
            "<class 'pandas.core.series.Series'>\n"
          ]
        }
      ],
      "source": [
        "print(a)\n",
        "print(type(a))\n"
      ]
    },
    {
      "cell_type": "markdown",
      "id": "z0FryxOXmYBI",
      "metadata": {
        "id": "z0FryxOXmYBI"
      },
      "source": [
        "Using indexing access the element 300 from the series a."
      ]
    },
    {
      "cell_type": "code",
      "execution_count": 5,
      "id": "wERTsh-4mYBJ",
      "metadata": {
        "id": "wERTsh-4mYBJ"
      },
      "outputs": [
        {
          "name": "stdout",
          "output_type": "stream",
          "text": [
            "300\n"
          ]
        }
      ],
      "source": [
        "element_300 = a[2]\n",
        "print(element_300)"
      ]
    },
    {
      "cell_type": "markdown",
      "id": "HHEKyOtemYBJ",
      "metadata": {
        "id": "HHEKyOtemYBJ"
      },
      "source": [
        "What are the values of index for series a?"
      ]
    },
    {
      "cell_type": "code",
      "execution_count": 6,
      "id": "uQOnSJQ4mYBJ",
      "metadata": {
        "id": "uQOnSJQ4mYBJ"
      },
      "outputs": [
        {
          "name": "stdout",
          "output_type": "stream",
          "text": [
            "RangeIndex(start=0, stop=4, step=1)\n"
          ]
        }
      ],
      "source": [
        "index_values = a.index\n",
        "print(index_values)"
      ]
    },
    {
      "cell_type": "markdown",
      "id": "EuFjG74wmYBJ",
      "metadata": {
        "id": "EuFjG74wmYBJ"
      },
      "source": [
        "Change the index to  ['c', 'a', 'b', 'd']"
      ]
    },
    {
      "cell_type": "code",
      "execution_count": 7,
      "id": "1ueAAFiJmYBK",
      "metadata": {
        "id": "1ueAAFiJmYBK"
      },
      "outputs": [
        {
          "name": "stdout",
          "output_type": "stream",
          "text": [
            "c    100\n",
            "a    200\n",
            "b    300\n",
            "d    400\n",
            "dtype: int64\n"
          ]
        }
      ],
      "source": [
        "a.index = ['c', 'a', 'b', 'd']\n",
        "\n",
        "print(a)\n"
      ]
    },
    {
      "cell_type": "markdown",
      "id": "ZdZLyRO7mYBK",
      "metadata": {
        "id": "ZdZLyRO7mYBK"
      },
      "source": [
        "Access the value in the series with index 'd'"
      ]
    },
    {
      "cell_type": "code",
      "execution_count": 8,
      "id": "oN1ce3GymYBK",
      "metadata": {
        "id": "oN1ce3GymYBK"
      },
      "outputs": [
        {
          "name": "stdout",
          "output_type": "stream",
          "text": [
            "400\n"
          ]
        }
      ],
      "source": [
        "value_d = a.loc['d']\n",
        "\n",
        "print(value_d)"
      ]
    },
    {
      "cell_type": "markdown",
      "id": "eQSGwKtFmYBK",
      "metadata": {
        "id": "eQSGwKtFmYBK"
      },
      "source": [
        "Sort the values wrt to the index and print it"
      ]
    },
    {
      "cell_type": "code",
      "execution_count": 9,
      "id": "-arvricBmYBL",
      "metadata": {
        "id": "-arvricBmYBL"
      },
      "outputs": [
        {
          "name": "stdout",
          "output_type": "stream",
          "text": [
            "a    200\n",
            "b    300\n",
            "c    100\n",
            "d    400\n",
            "dtype: int64\n"
          ]
        }
      ],
      "source": [
        "sorted_a = a.sort_index()\n",
        "\n",
        "print(sorted_a)\n"
      ]
    },
    {
      "cell_type": "markdown",
      "id": "g-fXVSK2mYBL",
      "metadata": {
        "id": "g-fXVSK2mYBL"
      },
      "source": [
        "Create a new Pandas Series b having index as 'e', 'f', and 'g' and value 800,450,100 and print it"
      ]
    },
    {
      "cell_type": "code",
      "execution_count": 10,
      "id": "fAg_rI3hmYBL",
      "metadata": {
        "id": "fAg_rI3hmYBL"
      },
      "outputs": [
        {
          "name": "stdout",
          "output_type": "stream",
          "text": [
            "e    800\n",
            "f    450\n",
            "g    100\n",
            "dtype: int64\n"
          ]
        }
      ],
      "source": [
        "# b =\n",
        "\n",
        "b = pd.Series([800, 450, 100], index=['e', 'f', 'g'])\n",
        "\n",
        "print(b)\n"
      ]
    },
    {
      "cell_type": "markdown",
      "id": "jWhRRtF1mYBL",
      "metadata": {
        "id": "jWhRRtF1mYBL"
      },
      "source": [
        "Append b series at the end of a series"
      ]
    },
    {
      "cell_type": "code",
      "execution_count": 11,
      "id": "TBV8hkRXmYBL",
      "metadata": {
        "id": "TBV8hkRXmYBL"
      },
      "outputs": [
        {
          "name": "stdout",
          "output_type": "stream",
          "text": [
            "c    100\n",
            "a    200\n",
            "b    300\n",
            "d    400\n",
            "e    800\n",
            "f    450\n",
            "g    100\n",
            "dtype: int64\n"
          ]
        }
      ],
      "source": [
        "# a =\n",
        "a = pd.concat([a,b])\n",
        "\n",
        "print(a)"
      ]
    },
    {
      "cell_type": "code",
      "execution_count": 12,
      "id": "Xfm5WgBYmYBM",
      "metadata": {
        "id": "Xfm5WgBYmYBM"
      },
      "outputs": [
        {
          "name": "stdout",
          "output_type": "stream",
          "text": [
            "c    100\n",
            "a    200\n",
            "b    300\n",
            "d    400\n",
            "e    800\n",
            "f    450\n",
            "g    100\n",
            "dtype: int64\n"
          ]
        }
      ],
      "source": [
        "#print a again after appending b into it\n",
        "\n",
        "\n",
        "print(a)\n"
      ]
    },
    {
      "cell_type": "markdown",
      "id": "6lz_BR0umYBM",
      "metadata": {
        "id": "6lz_BR0umYBM"
      },
      "source": [
        "Sort the values in descending order of a and print the index of the sorted series"
      ]
    },
    {
      "cell_type": "code",
      "execution_count": 13,
      "id": "5srJV0y0mYBM",
      "metadata": {
        "id": "5srJV0y0mYBM"
      },
      "outputs": [
        {
          "name": "stdout",
          "output_type": "stream",
          "text": [
            "e    800\n",
            "f    450\n",
            "d    400\n",
            "b    300\n",
            "a    200\n",
            "c    100\n",
            "g    100\n",
            "dtype: int64\n"
          ]
        }
      ],
      "source": [
        "# a =\n",
        "a = a.sort_values(ascending=False)\n",
        "print(a)\n"
      ]
    },
    {
      "cell_type": "code",
      "execution_count": 14,
      "id": "9OxmwQRAmYBM",
      "metadata": {
        "id": "9OxmwQRAmYBM"
      },
      "outputs": [
        {
          "name": "stdout",
          "output_type": "stream",
          "text": [
            "Index(['e', 'f', 'd', 'b', 'a', 'c', 'g'], dtype='object')\n"
          ]
        }
      ],
      "source": [
        "\n",
        "print(a.index)\n"
      ]
    },
    {
      "cell_type": "markdown",
      "id": "OQ5gj4romYBM",
      "metadata": {
        "id": "OQ5gj4romYBM"
      },
      "source": [
        "## Pandas DataFrame"
      ]
    },
    {
      "cell_type": "markdown",
      "id": "tD7de_2amYBM",
      "metadata": {
        "id": "tD7de_2amYBM"
      },
      "source": [
        "### Part 1"
      ]
    },
    {
      "cell_type": "markdown",
      "id": "z_nAQa4BmYBN",
      "metadata": {
        "id": "z_nAQa4BmYBN"
      },
      "source": [
        "Create a pandas dataframe df from the series 'a' that we used in the last section, print the dataframe"
      ]
    },
    {
      "cell_type": "code",
      "execution_count": 15,
      "id": "ojD-B6FvmYBN",
      "metadata": {
        "id": "ojD-B6FvmYBN"
      },
      "outputs": [],
      "source": [
        "# df =\n",
        "\n",
        "df = pd.DataFrame(a, columns=['Value'])\n",
        "\n",
        "\n"
      ]
    },
    {
      "cell_type": "code",
      "execution_count": 16,
      "id": "2r2SyCYNmYBN",
      "metadata": {
        "id": "2r2SyCYNmYBN"
      },
      "outputs": [
        {
          "name": "stdout",
          "output_type": "stream",
          "text": [
            "   Value\n",
            "e    800\n",
            "f    450\n",
            "d    400\n",
            "b    300\n",
            "a    200\n",
            "c    100\n",
            "g    100\n"
          ]
        }
      ],
      "source": [
        "print(df)"
      ]
    },
    {
      "cell_type": "markdown",
      "id": "yzrIH3irmYBN",
      "metadata": {
        "id": "yzrIH3irmYBN"
      },
      "source": [
        "What is the shape of the datafarme <br>\n",
        "(also, what does it imply?)"
      ]
    },
    {
      "cell_type": "code",
      "execution_count": 17,
      "id": "aFo5tNrVmYBN",
      "metadata": {
        "id": "aFo5tNrVmYBN"
      },
      "outputs": [
        {
          "name": "stdout",
          "output_type": "stream",
          "text": [
            "(7, 1)\n"
          ]
        }
      ],
      "source": [
        "df = pd.DataFrame(a, columns=['Value'])\n",
        "\n",
        "print(df.shape)\n"
      ]
    },
    {
      "cell_type": "markdown",
      "id": "Dl0Hr0LSmYBO",
      "metadata": {
        "id": "Dl0Hr0LSmYBO"
      },
      "source": [
        "Hey! remember shape (7,1) implies dataframe has 7 rows and 1 column."
      ]
    },
    {
      "cell_type": "markdown",
      "id": "hwcaXl43mYBO",
      "metadata": {
        "id": "hwcaXl43mYBO"
      },
      "source": [
        "What is the index of the dataframe, is it same as the series 'a'"
      ]
    },
    {
      "cell_type": "code",
      "execution_count": 18,
      "id": "1-gMxT-emYBO",
      "metadata": {
        "id": "1-gMxT-emYBO"
      },
      "outputs": [
        {
          "name": "stdout",
          "output_type": "stream",
          "text": [
            "Index(['e', 'f', 'd', 'b', 'a', 'c', 'g'], dtype='object')\n",
            "Index(['e', 'f', 'd', 'b', 'a', 'c', 'g'], dtype='object')\n"
          ]
        }
      ],
      "source": [
        "# yep its same as the series.\n",
        "\n",
        "print(a.index)\n",
        "print(df.index)"
      ]
    },
    {
      "cell_type": "markdown",
      "id": "C5wadnBymYBO",
      "metadata": {
        "id": "C5wadnBymYBO"
      },
      "source": [
        "print the head and tail of the dataframe. <br>\n",
        "Additional - (what does head and tali represent?)"
      ]
    },
    {
      "cell_type": "code",
      "execution_count": 19,
      "id": "U2vxYrPnmYBO",
      "metadata": {
        "id": "U2vxYrPnmYBO"
      },
      "outputs": [
        {
          "name": "stdout",
          "output_type": "stream",
          "text": [
            "   Value\n",
            "e    800\n",
            "f    450\n",
            "   Value\n",
            "c    100\n",
            "g    100\n"
          ]
        }
      ],
      "source": [
        "print(df.head(2))\n",
        "print(df.tail(2))\n",
        "\n"
      ]
    },
    {
      "cell_type": "code",
      "execution_count": 20,
      "id": "nikOdGC_mYBO",
      "metadata": {
        "id": "nikOdGC_mYBO"
      },
      "outputs": [],
      "source": [
        "# head(): Displays the first few rows of the DataFrame or Series.\n",
        "\n",
        "# tail(): Displays the last few rows of the DataFrame or Series."
      ]
    },
    {
      "cell_type": "markdown",
      "id": "Ci2tiwbBmYBO",
      "metadata": {
        "id": "Ci2tiwbBmYBO"
      },
      "source": [
        "Rename the column of the dataframe as 'points'"
      ]
    },
    {
      "cell_type": "code",
      "execution_count": 21,
      "id": "K3OsbVD3mYBP",
      "metadata": {
        "id": "K3OsbVD3mYBP"
      },
      "outputs": [
        {
          "name": "stdout",
          "output_type": "stream",
          "text": [
            "   Points\n",
            "e     800\n",
            "f     450\n",
            "d     400\n",
            "b     300\n",
            "a     200\n",
            "c     100\n",
            "g     100\n"
          ]
        }
      ],
      "source": [
        "\n",
        "df = pd.DataFrame(a, columns=['Value'])\n",
        "df.columns = ['Points']\n",
        "\n",
        "print(df)\n"
      ]
    },
    {
      "cell_type": "markdown",
      "id": "bBV0VfzzmYBP",
      "metadata": {
        "id": "bBV0VfzzmYBP"
      },
      "source": [
        "Create another Series 'fruits', which contains random names of fruits from ['orange','mango','apple']. The series should contain 7 elements, randomly selected from ['orange','mango','apple']"
      ]
    },
    {
      "cell_type": "code",
      "execution_count": 22,
      "id": "baUmpsuhmYBP",
      "metadata": {
        "id": "baUmpsuhmYBP"
      },
      "outputs": [
        {
          "name": "stdout",
          "output_type": "stream",
          "text": [
            "0     mango\n",
            "1    orange\n",
            "2     mango\n",
            "3    orange\n",
            "4     apple\n",
            "5     apple\n",
            "6     mango\n",
            "dtype: object\n"
          ]
        }
      ],
      "source": [
        "#Create fruits array\n",
        "\n",
        "# fruits =\n",
        "\n",
        "fruit = ['orange', 'mango', 'apple']\n",
        "fruits = pd.Series(np.random.choice(fruit, size=7))\n",
        "print(fruits)"
      ]
    },
    {
      "cell_type": "code",
      "execution_count": 23,
      "id": "QrbnjM8FmYBP",
      "metadata": {
        "id": "QrbnjM8FmYBP"
      },
      "outputs": [
        {
          "name": "stdout",
          "output_type": "stream",
          "text": [
            "0     mango\n",
            "1    orange\n",
            "2     mango\n",
            "3    orange\n",
            "4     apple\n",
            "5     apple\n",
            "6     mango\n",
            "dtype: object\n"
          ]
        }
      ],
      "source": [
        "#Create series fruits out of fruits array\n",
        "\n",
        "# fruits =\n",
        "fruits = pd.Series(fruits)\n",
        "print(fruits)\n"
      ]
    },
    {
      "cell_type": "markdown",
      "id": "20slMbq5mYBP",
      "metadata": {
        "id": "20slMbq5mYBP"
      },
      "source": [
        "Change the index of fruits to the index of dataframe df"
      ]
    },
    {
      "cell_type": "code",
      "execution_count": 24,
      "id": "1n4THBgkmYBQ",
      "metadata": {
        "id": "1n4THBgkmYBQ"
      },
      "outputs": [
        {
          "name": "stdout",
          "output_type": "stream",
          "text": [
            "e     mango\n",
            "f    orange\n",
            "d     mango\n",
            "b    orange\n",
            "a     apple\n",
            "c     apple\n",
            "g     mango\n",
            "dtype: object\n"
          ]
        }
      ],
      "source": [
        "\n",
        "fruits.index = df.index\n",
        "\n",
        "\n",
        "print(fruits)\n"
      ]
    },
    {
      "cell_type": "markdown",
      "id": "oPv8dJ_2mYBQ",
      "metadata": {
        "id": "oPv8dJ_2mYBQ"
      },
      "source": [
        "Add this fruits series as a new column to the dataframe df with its column name as 'fruits'\n",
        "<br>print the head of the dataframe to verify"
      ]
    },
    {
      "cell_type": "code",
      "execution_count": 25,
      "id": "tit_GDscmYBQ",
      "metadata": {
        "id": "tit_GDscmYBQ"
      },
      "outputs": [
        {
          "name": "stdout",
          "output_type": "stream",
          "text": [
            "   Points  fruits\n",
            "e     800   mango\n",
            "f     450  orange\n",
            "d     400   mango\n",
            "b     300  orange\n",
            "a     200   apple\n",
            "c     100   apple\n",
            "g     100   mango\n"
          ]
        }
      ],
      "source": [
        "df['fruits'] = fruits\n",
        "\n",
        "\n",
        "print(df)\n"
      ]
    },
    {
      "cell_type": "code",
      "execution_count": 26,
      "id": "X3A6oKUXmYBQ",
      "metadata": {
        "id": "X3A6oKUXmYBQ"
      },
      "outputs": [
        {
          "name": "stdout",
          "output_type": "stream",
          "text": [
            "   Points  fruits\n",
            "e     800   mango\n",
            "f     450  orange\n"
          ]
        }
      ],
      "source": [
        "\n",
        "\n",
        "print(df.head(2))\n",
        "\n"
      ]
    },
    {
      "cell_type": "markdown",
      "id": "ACsvenslmYBQ",
      "metadata": {
        "id": "ACsvenslmYBQ"
      },
      "source": [
        "## Pandas Concatenation"
      ]
    },
    {
      "cell_type": "markdown",
      "id": "cwgg82N0mYBQ",
      "metadata": {
        "id": "cwgg82N0mYBQ"
      },
      "source": [
        "Create a dataframe  d1 where the cols are  ‘city’ : [‘Chandigarh’, ‘Delhi’, ‘Kanpur’, ‘Chennai’, ‘Manali’ ] and ‘Temperature’ : [15, 22, 20, 26,-2]"
      ]
    },
    {
      "cell_type": "code",
      "execution_count": 27,
      "id": "09tWwU18mYBR",
      "metadata": {
        "id": "09tWwU18mYBR"
      },
      "outputs": [],
      "source": [
        "# d1 =\n",
        "data = {\n",
        "    'city': ['Chandigarh', 'Delhi', 'Kanpur', 'Chennai', 'Manali'],\n",
        "    'Temperature': [15, 22, 20, 26, -2]\n",
        "}\n",
        "\n",
        "d1 = pd.DataFrame(data)\n"
      ]
    },
    {
      "cell_type": "markdown",
      "id": "XAquuUx_mYBR",
      "metadata": {
        "id": "XAquuUx_mYBR"
      },
      "source": [
        "Print(d1)"
      ]
    },
    {
      "cell_type": "code",
      "execution_count": 28,
      "id": "tEaf6dUVmYBR",
      "metadata": {
        "id": "tEaf6dUVmYBR"
      },
      "outputs": [
        {
          "name": "stdout",
          "output_type": "stream",
          "text": [
            "         city  Temperature\n",
            "0  Chandigarh           15\n",
            "1       Delhi           22\n",
            "2      Kanpur           20\n",
            "3     Chennai           26\n",
            "4      Manali           -2\n"
          ]
        }
      ],
      "source": [
        "\n",
        "print(d1)\n",
        "\n"
      ]
    },
    {
      "cell_type": "markdown",
      "id": "YmZ9u-4FmYBR",
      "metadata": {
        "id": "YmZ9u-4FmYBR"
      },
      "source": [
        "What is the shape of d1."
      ]
    },
    {
      "cell_type": "code",
      "execution_count": 29,
      "id": "upPyfWR7mYBR",
      "metadata": {
        "id": "upPyfWR7mYBR"
      },
      "outputs": [
        {
          "name": "stdout",
          "output_type": "stream",
          "text": [
            "(5, 2)\n"
          ]
        }
      ],
      "source": [
        "\n",
        "print(d1.shape)\n",
        "\n"
      ]
    },
    {
      "cell_type": "markdown",
      "id": "JtBQ5SLtmYBS",
      "metadata": {
        "id": "JtBQ5SLtmYBS"
      },
      "source": [
        "Set city = d1['city']"
      ]
    },
    {
      "cell_type": "code",
      "execution_count": 30,
      "id": "mzE78QzrmYBS",
      "metadata": {
        "id": "mzE78QzrmYBS"
      },
      "outputs": [],
      "source": [
        "\n",
        "city = d1['city']\n",
        "\n"
      ]
    },
    {
      "cell_type": "markdown",
      "id": "WubWnFIcmYBS",
      "metadata": {
        "id": "WubWnFIcmYBS"
      },
      "source": [
        "print city <br>\n",
        "What is the type of city."
      ]
    },
    {
      "cell_type": "code",
      "execution_count": 31,
      "id": "6d4EjYTemYBS",
      "metadata": {
        "id": "6d4EjYTemYBS"
      },
      "outputs": [
        {
          "name": "stdout",
          "output_type": "stream",
          "text": [
            "0    Chandigarh\n",
            "1         Delhi\n",
            "2        Kanpur\n",
            "3       Chennai\n",
            "4        Manali\n",
            "Name: city, dtype: object\n",
            "<class 'pandas.core.series.Series'>\n"
          ]
        }
      ],
      "source": [
        "\n",
        "print(city)\n",
        "print(type(city))\n",
        "\n"
      ]
    },
    {
      "cell_type": "markdown",
      "id": "uUdrLgg6mYBS",
      "metadata": {
        "id": "uUdrLgg6mYBS"
      },
      "source": [
        "Create another datafeame 'd2' where the columns are <br>\n",
        "'city' - ['Bengalaru','Coimbatore','Srirangam','Pondicherry'] <br>\n",
        "'Temperature' - [24,35,36,39]"
      ]
    },
    {
      "cell_type": "code",
      "execution_count": 32,
      "id": "CFBCGcvhmYBS",
      "metadata": {
        "id": "CFBCGcvhmYBS"
      },
      "outputs": [],
      "source": [
        "# d2 =\n",
        "\n",
        "data2 = {\n",
        "    'city': ['Bengaluru', 'Coimbatore', 'Srirangam', 'Pondicherry'],\n",
        "    'Temperature': [24, 35, 36, 39]\n",
        "}\n",
        "\n",
        "d2 = pd.DataFrame(data2)\n",
        "\n"
      ]
    },
    {
      "cell_type": "markdown",
      "id": "HivVdLN5mYBT",
      "metadata": {
        "id": "HivVdLN5mYBT"
      },
      "source": [
        "print the shape of this dataframe"
      ]
    },
    {
      "cell_type": "code",
      "execution_count": 33,
      "id": "9FFgtQJhmYBT",
      "metadata": {
        "id": "9FFgtQJhmYBT"
      },
      "outputs": [
        {
          "name": "stdout",
          "output_type": "stream",
          "text": [
            "(4, 2)\n"
          ]
        }
      ],
      "source": [
        "print(d2.shape)\n"
      ]
    },
    {
      "cell_type": "markdown",
      "id": "UK38h5ktmYBT",
      "metadata": {
        "id": "UK38h5ktmYBT"
      },
      "source": [
        "merge the two dataframes together, save it in a new dataframe named 'd3'"
      ]
    },
    {
      "cell_type": "code",
      "execution_count": 34,
      "id": "GMbOPfjCmYBT",
      "metadata": {
        "id": "GMbOPfjCmYBT"
      },
      "outputs": [
        {
          "name": "stdout",
          "output_type": "stream",
          "text": [
            "          city  Temperature\n",
            "0   Chandigarh           15\n",
            "1        Delhi           22\n",
            "2       Kanpur           20\n",
            "3      Chennai           26\n",
            "4       Manali           -2\n",
            "5    Bengaluru           24\n",
            "6   Coimbatore           35\n",
            "7    Srirangam           36\n",
            "8  Pondicherry           39\n"
          ]
        }
      ],
      "source": [
        "# d3 =\n",
        "\n",
        "d3 = pd.concat([d1, d2], ignore_index=True)\n",
        "\n",
        "print(d3)"
      ]
    },
    {
      "cell_type": "markdown",
      "id": "1dGlNGzjmYBT",
      "metadata": {
        "id": "1dGlNGzjmYBT"
      },
      "source": [
        "Select the part of the dataframe such that it contains cities wherer temp is less then or equal to 20 <br>\n",
        "How many cities are there?"
      ]
    },
    {
      "cell_type": "code",
      "execution_count": 35,
      "id": "1vtC2UkgmYBT",
      "metadata": {
        "id": "1vtC2UkgmYBT"
      },
      "outputs": [
        {
          "name": "stdout",
          "output_type": "stream",
          "text": [
            "         city  Temperature\n",
            "0  Chandigarh           15\n",
            "2      Kanpur           20\n",
            "4      Manali           -2\n",
            "3\n"
          ]
        }
      ],
      "source": [
        "df = d3[d3['Temperature'] <= 20]\n",
        "cities = len(df)\n",
        "\n",
        "print(df)\n",
        "print(cities)"
      ]
    },
    {
      "cell_type": "markdown",
      "id": "82QIQRQUmYBT",
      "metadata": {
        "id": "82QIQRQUmYBT"
      },
      "source": [
        "Select the part of the dataframe such that it contains the cities where tempearature greater than or equal to 35"
      ]
    },
    {
      "cell_type": "code",
      "execution_count": 36,
      "id": "Ea_hMtyGmYBU",
      "metadata": {
        "id": "Ea_hMtyGmYBU"
      },
      "outputs": [
        {
          "name": "stdout",
          "output_type": "stream",
          "text": [
            "          city  Temperature\n",
            "6   Coimbatore           35\n",
            "7    Srirangam           36\n",
            "8  Pondicherry           39\n"
          ]
        }
      ],
      "source": [
        "df = d3[d3['Temperature'] >= 35]\n",
        "\n",
        "print(df)\n",
        "\n"
      ]
    },
    {
      "cell_type": "markdown",
      "id": "BrYscXpWmYBU",
      "metadata": {
        "id": "BrYscXpWmYBU"
      },
      "source": [
        "## Applying functions to columns and creating new columns"
      ]
    },
    {
      "cell_type": "markdown",
      "id": "7Z4ioDxtmYBU",
      "metadata": {
        "id": "7Z4ioDxtmYBU"
      },
      "source": [
        "We need to create another column in d3, which contains  a boolean value for each city to indicate whether it's a union territory or not.\n",
        "- HINT: Chandigarh, Pondicherry and Delhi are only 3 union territories here.\n"
      ]
    },
    {
      "cell_type": "code",
      "execution_count": 37,
      "id": "FR2wgv6tmYBU",
      "metadata": {
        "id": "FR2wgv6tmYBU"
      },
      "outputs": [],
      "source": [
        "# write function here\n",
        "\n",
        "# def is_ut(x): \n",
        "\n",
        "#     # write code below\n",
        "\n",
        "def is_ut(city):\n",
        "    union_territories = ['Chandigarh', 'Pondicherry', 'Delhi']\n",
        "    return city in union_territories\n",
        "\n",
        "# d3['is_ut'] =\n",
        "d3['is_ut'] = d3['city'].apply(is_ut)\n",
        "\n"
      ]
    },
    {
      "cell_type": "code",
      "execution_count": 38,
      "id": "0hd7QjComYBU",
      "metadata": {
        "id": "0hd7QjComYBU"
      },
      "outputs": [
        {
          "name": "stdout",
          "output_type": "stream",
          "text": [
            "          city  Temperature  is_ut\n",
            "0   Chandigarh           15   True\n",
            "1        Delhi           22   True\n",
            "2       Kanpur           20  False\n",
            "3      Chennai           26  False\n",
            "4       Manali           -2  False\n",
            "5    Bengaluru           24  False\n",
            "6   Coimbatore           35  False\n",
            "7    Srirangam           36  False\n",
            "8  Pondicherry           39   True\n"
          ]
        }
      ],
      "source": [
        "# print d3\n",
        "\n",
        "print(d3)"
      ]
    },
    {
      "cell_type": "markdown",
      "id": "z88YETlMmYBU",
      "metadata": {
        "id": "z88YETlMmYBU"
      },
      "source": [
        "The temperatures mentioned in ‘Temperature’ column are mentioned in Celsius, we need another column which contains the same in Fahrenheit."
      ]
    },
    {
      "cell_type": "markdown",
      "id": "ywp07m-xmYBU",
      "metadata": {
        "id": "ywp07m-xmYBU"
      },
      "source": [
        "HINT -\n",
        "- Define a function c_to_f which takes input temp in celsius and returns a value with temperature in Fahrenheit.\n",
        "- To check: c_to_f(10) should return 50.\n"
      ]
    },
    {
      "cell_type": "code",
      "execution_count": 39,
      "id": "V0x_0IAAmYBV",
      "metadata": {
        "id": "V0x_0IAAmYBV"
      },
      "outputs": [],
      "source": [
        "# write function here\n",
        "\n",
        "def c_to_f(temp_celsius):\n",
        "    return (temp_celsius * 9/5) + 32\n",
        "\n"
      ]
    },
    {
      "cell_type": "code",
      "execution_count": 40,
      "id": "Wc9meranmYBV",
      "metadata": {
        "id": "Wc9meranmYBV"
      },
      "outputs": [
        {
          "name": "stdout",
          "output_type": "stream",
          "text": [
            "50.0\n"
          ]
        }
      ],
      "source": [
        "# check function c_to_f(10)\n",
        "\n",
        "\n",
        "print(c_to_f(10))"
      ]
    },
    {
      "cell_type": "code",
      "execution_count": 41,
      "id": "H79GUcoImYBV",
      "metadata": {
        "id": "H79GUcoImYBV"
      },
      "outputs": [
        {
          "name": "stdout",
          "output_type": "stream",
          "text": [
            "          city  Temperature  is_ut  temp_fahrenheit\n",
            "0   Chandigarh           15   True             59.0\n",
            "1        Delhi           22   True             71.6\n",
            "2       Kanpur           20  False             68.0\n",
            "3      Chennai           26  False             78.8\n",
            "4       Manali           -2  False             28.4\n",
            "5    Bengaluru           24  False             75.2\n",
            "6   Coimbatore           35  False             95.0\n",
            "7    Srirangam           36  False             96.8\n",
            "8  Pondicherry           39   True            102.2\n"
          ]
        }
      ],
      "source": [
        "# apply function c_to_f to d3 to create a column 'temp_farenhiet'\n",
        "\n",
        "d3['temp_fahrenheit'] = d3['Temperature'].apply(c_to_f)\n",
        "\n",
        "print(d3)"
      ]
    },
    {
      "cell_type": "markdown",
      "id": "Wj0p6JKHmYBV",
      "metadata": {
        "id": "Wj0p6JKHmYBV"
      },
      "source": [
        "## Indexing and selecting rows in DataFrame"
      ]
    },
    {
      "cell_type": "markdown",
      "id": "fFitRJy2mYBV",
      "metadata": {
        "id": "fFitRJy2mYBV"
      },
      "source": [
        "Select subset of the dataframe d1 such that it contains the cities which are union territories."
      ]
    },
    {
      "cell_type": "code",
      "execution_count": 42,
      "id": "Kg8OSVz0mYBV",
      "metadata": {
        "id": "Kg8OSVz0mYBV"
      },
      "outputs": [
        {
          "name": "stdout",
          "output_type": "stream",
          "text": [
            "         city  Temperature\n",
            "0  Chandigarh           15\n",
            "1       Delhi           22\n"
          ]
        }
      ],
      "source": [
        "union_territories = ['Chandigarh', 'Delhi', 'Pondicherry']\n",
        "d1_UT = d1[d1['city'].isin(union_territories)]\n",
        "\n",
        "print(d1_UT)"
      ]
    },
    {
      "cell_type": "markdown",
      "id": "XnxQl4ZPmYBV",
      "metadata": {
        "id": "XnxQl4ZPmYBV"
      },
      "source": [
        "Select a subset of the dataframe d1 such that it contains the cities which only have temperature above 90 Farenhiet."
      ]
    },
    {
      "cell_type": "code",
      "execution_count": 50,
      "id": "9o62VSn7mYBV",
      "metadata": {
        "id": "9o62VSn7mYBV"
      },
      "outputs": [
        {
          "name": "stdout",
          "output_type": "stream",
          "text": [
            "     city  Temperature  temp_fahrenheit\n",
            "2  Kanpur           40            104.0\n"
          ]
        }
      ],
      "source": [
        "data1 = {\n",
        "    'city': ['Chandigarh', 'Delhi', 'Kanpur', 'Chennai', 'Manali'],\n",
        "    'Temperature': [15, 22, 40, 26, -2]\n",
        "}\n",
        "d1 = pd.DataFrame(data1)\n",
        "def c_to_f(temp_celsius):\n",
        "    return temp_celsius * 9/5 + 32\n",
        "d1['temp_fahrenheit'] = d1['Temperature'].apply(c_to_f)\n",
        "d1_above_90_f = d1[d1['temp_fahrenheit'] > 90]\n",
        "\n",
        "print(d1_above_90_f)\n"
      ]
    },
    {
      "cell_type": "markdown",
      "id": "IQq7K2EtmYBW",
      "metadata": {
        "id": "IQq7K2EtmYBW"
      },
      "source": [
        "Select only the first three rows of the dataframe d1.\n"
      ]
    },
    {
      "cell_type": "code",
      "execution_count": 51,
      "id": "PlmVOyAAmYBW",
      "metadata": {
        "id": "PlmVOyAAmYBW"
      },
      "outputs": [
        {
          "name": "stdout",
          "output_type": "stream",
          "text": [
            "         city  Temperature  temp_fahrenheit\n",
            "0  Chandigarh           15             59.0\n",
            "1       Delhi           22             71.6\n",
            "2      Kanpur           40            104.0\n"
          ]
        }
      ],
      "source": [
        "d1_first_three = d1[:3]\n",
        "\n",
        "print(d1_first_three)"
      ]
    },
    {
      "cell_type": "markdown",
      "id": "MKNIbwW2mYBW",
      "metadata": {
        "id": "MKNIbwW2mYBW"
      },
      "source": [
        "Select all the rows and last two columns in the dataframe.\n",
        "\n",
        "\n"
      ]
    },
    {
      "cell_type": "code",
      "execution_count": 52,
      "id": "WfQasVJImYBW",
      "metadata": {
        "id": "WfQasVJImYBW"
      },
      "outputs": [
        {
          "name": "stdout",
          "output_type": "stream",
          "text": [
            "   Temperature  temp_fahrenheit\n",
            "0           15             59.0\n",
            "1           22             71.6\n",
            "2           40            104.0\n",
            "3           26             78.8\n",
            "4           -2             28.4\n"
          ]
        }
      ],
      "source": [
        "d1_last_two_columns = d1.iloc[:, -2:]\n",
        "\n",
        "print(d1_last_two_columns)"
      ]
    },
    {
      "cell_type": "markdown",
      "id": "LQ9xspkHmYBW",
      "metadata": {
        "id": "LQ9xspkHmYBW"
      },
      "source": [
        "## Groupby"
      ]
    },
    {
      "cell_type": "code",
      "execution_count": 56,
      "id": "IhPmh2qSUIfI",
      "metadata": {
        "id": "IhPmh2qSUIfI"
      },
      "outputs": [
        {
          "name": "stdout",
          "output_type": "stream",
          "text": [
            "City\n",
            "Chicago        69500.000000\n",
            "Los Angeles    86500.000000\n",
            "New York       79333.333333\n",
            "Name: Salary, dtype: float64\n"
          ]
        }
      ],
      "source": [
        "# Create a dataframe using dictionary of your choice\n",
        "\n",
        "data = {\n",
        "    'Name': ['Alice', 'Bob', 'Charlie', 'David', 'Eva', 'Frank', 'Grace'],\n",
        "    'Age': [23, 35, 45, 23, 35, 29, 23],\n",
        "    'City': ['New York', 'Los Angeles', 'New York', 'Chicago', 'Los Angeles', 'Chicago', 'New York'],\n",
        "    'Salary': [70000, 85000, 95000, 72000, 88000, 67000, 73000]\n",
        "}\n",
        "\n",
        "df = pd.DataFrame(data)\n",
        "\n",
        "grouped_df = df.groupby('City')['Salary'].mean()\n",
        "\n",
        "print(grouped_df)\n",
        "\n"
      ]
    },
    {
      "cell_type": "code",
      "execution_count": 59,
      "id": "x8loPsRaUIfJ",
      "metadata": {
        "id": "x8loPsRaUIfJ"
      },
      "outputs": [
        {
          "name": "stdout",
          "output_type": "stream",
          "text": [
            "Name\n",
            "Alice      70000\n",
            "Bob        85000\n",
            "Charlie    95000\n",
            "David      72000\n",
            "Eva        88000\n",
            "Frank      67000\n",
            "Grace      73000\n",
            "Name: Salary, dtype: int64\n"
          ]
        }
      ],
      "source": [
        "# Use Groupby of single column with aggregate sum()\n",
        "df = pd.DataFrame(data)\n",
        "result = df.groupby('Name')['Salary'].sum()\n",
        "\n",
        "print(result)"
      ]
    },
    {
      "cell_type": "code",
      "execution_count": 60,
      "id": "VIWxl25_UIfK",
      "metadata": {
        "id": "VIWxl25_UIfK"
      },
      "outputs": [
        {
          "name": "stdout",
          "output_type": "stream",
          "text": [
            "City\n",
            "Chicago        2\n",
            "Los Angeles    2\n",
            "New York       3\n",
            "Name: Name, dtype: int64\n"
          ]
        }
      ],
      "source": [
        "# Use Groupby of single column with aggregate count()\n",
        "\n",
        "result = df.groupby('City')['Name'].count()\n",
        "\n",
        "print(result)"
      ]
    },
    {
      "cell_type": "code",
      "execution_count": 61,
      "id": "KRG71Pa8UIfK",
      "metadata": {
        "id": "KRG71Pa8UIfK"
      },
      "outputs": [
        {
          "name": "stdout",
          "output_type": "stream",
          "text": [
            "               min    max\n",
            "City                     \n",
            "Chicago      67000  72000\n",
            "Los Angeles  85000  88000\n",
            "New York     70000  95000\n"
          ]
        },
        {
          "name": "stderr",
          "output_type": "stream",
          "text": [
            "C:\\Users\\gulab\\AppData\\Local\\Temp\\ipykernel_8212\\2379482304.py:3: FutureWarning: The provided callable <built-in function min> is currently using SeriesGroupBy.min. In a future version of pandas, the provided callable will be used directly. To keep current behavior pass the string \"min\" instead.\n",
            "  result = df.groupby('City')['Salary'].agg([min, max])\n",
            "C:\\Users\\gulab\\AppData\\Local\\Temp\\ipykernel_8212\\2379482304.py:3: FutureWarning: The provided callable <built-in function max> is currently using SeriesGroupBy.max. In a future version of pandas, the provided callable will be used directly. To keep current behavior pass the string \"max\" instead.\n",
            "  result = df.groupby('City')['Salary'].agg([min, max])\n"
          ]
        }
      ],
      "source": [
        "# Use Groupby of single column with aggregate min() and max()\n",
        "\n",
        "result = df.groupby('City')['Salary'].agg([min, max])\n",
        "\n",
        "print(result)\n"
      ]
    },
    {
      "cell_type": "code",
      "execution_count": 62,
      "id": "2p6HydpzUIfK",
      "metadata": {
        "id": "2p6HydpzUIfK"
      },
      "outputs": [
        {
          "name": "stdout",
          "output_type": "stream",
          "text": [
            "City         Age\n",
            "Chicago      23     72000.0\n",
            "             29     67000.0\n",
            "Los Angeles  35     86500.0\n",
            "New York     23     71500.0\n",
            "             45     95000.0\n",
            "Name: Salary, dtype: float64\n"
          ]
        }
      ],
      "source": [
        "# Use Groupby of any 2 columns with aggregate mean()\n",
        "result = df.groupby(['City', 'Age'])['Salary'].mean()\n",
        "\n",
        "print(result)\n",
        "\n"
      ]
    },
    {
      "cell_type": "code",
      "execution_count": 63,
      "id": "K0IPfvYJUIfL",
      "metadata": {
        "id": "K0IPfvYJUIfL"
      },
      "outputs": [
        {
          "name": "stdout",
          "output_type": "stream",
          "text": [
            "                   min    max\n",
            "City        Age              \n",
            "Chicago     23   72000  72000\n",
            "            29   67000  67000\n",
            "Los Angeles 35   85000  88000\n",
            "New York    23   70000  73000\n",
            "            45   95000  95000\n"
          ]
        },
        {
          "name": "stderr",
          "output_type": "stream",
          "text": [
            "C:\\Users\\gulab\\AppData\\Local\\Temp\\ipykernel_8212\\3554081432.py:3: FutureWarning: The provided callable <built-in function min> is currently using SeriesGroupBy.min. In a future version of pandas, the provided callable will be used directly. To keep current behavior pass the string \"min\" instead.\n",
            "  result = df.groupby(['City', 'Age'])['Salary'].agg([min, max])\n",
            "C:\\Users\\gulab\\AppData\\Local\\Temp\\ipykernel_8212\\3554081432.py:3: FutureWarning: The provided callable <built-in function max> is currently using SeriesGroupBy.max. In a future version of pandas, the provided callable will be used directly. To keep current behavior pass the string \"max\" instead.\n",
            "  result = df.groupby(['City', 'Age'])['Salary'].agg([min, max])\n"
          ]
        }
      ],
      "source": [
        "# Use Groupby of any 2 columns with aggregate min() and max()\n",
        "\n",
        "result = df.groupby(['City', 'Age'])['Salary'].agg([min, max])\n",
        "\n",
        "print(result)\n"
      ]
    },
    {
      "cell_type": "code",
      "execution_count": null,
      "id": "nsgy-e74UIfL",
      "metadata": {
        "id": "nsgy-e74UIfL"
      },
      "outputs": [],
      "source": []
    }
  ],
  "metadata": {
    "colab": {
      "provenance": []
    },
    "kernelspec": {
      "display_name": "Python 3",
      "language": "python",
      "name": "python3"
    },
    "language_info": {
      "codemirror_mode": {
        "name": "ipython",
        "version": 3
      },
      "file_extension": ".py",
      "mimetype": "text/x-python",
      "name": "python",
      "nbconvert_exporter": "python",
      "pygments_lexer": "ipython3",
      "version": "3.12.4"
    }
  },
  "nbformat": 4,
  "nbformat_minor": 5
}
